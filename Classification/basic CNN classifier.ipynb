{
 "cells": [
  {
   "cell_type": "code",
   "execution_count": 1,
   "id": "8720dd78",
   "metadata": {},
   "outputs": [],
   "source": [
    "#import the libraries\n",
    "from tensorflow.keras.layers import Input, Conv2D, MaxPooling2D, Flatten, Dense, Dropout\n",
    "from tensorflow import keras\n",
    "from tensorflow.keras import layers, models\n",
    "import numpy as np\n",
    "from sklearn.metrics import classification_report\n",
    "import matplotlib.pyplot as plt\n",
    "import cv2\n",
    "import Augmentor\n",
    "import os"
   ]
  },
  {
   "cell_type": "code",
   "execution_count": 2,
   "id": "2b2f00da",
   "metadata": {},
   "outputs": [
    {
     "name": "stdout",
     "output_type": "stream",
     "text": [
      "422\n",
      "423\n"
     ]
    }
   ],
   "source": [
    "path_n = 'D:/FYP/Images/normal'\n",
    "path_w = 'D:/FYP/Images/whisper'\n",
    "normal = []\n",
    "whisper = []\n",
    "n = 0\n",
    "w = 0\n",
    "\n",
    "for i in os.scandir(path_n):\n",
    "    img = cv2.imread(i.path)\n",
    "    img = cv2.resize(img, (224, 224))\n",
    "    normal.append(img)\n",
    "    n = n + 1\n",
    "for i in os.scandir(path_w):\n",
    "    img = cv2.imread(i.path)\n",
    "    img = cv2.resize(img, (224, 224))\n",
    "    whisper.append(img)\n",
    "    w = w+1\n",
    "\n",
    "print(n)\n",
    "print(w)"
   ]
  },
  {
   "cell_type": "code",
   "execution_count": 3,
   "id": "13beab9f",
   "metadata": {},
   "outputs": [
    {
     "name": "stdout",
     "output_type": "stream",
     "text": [
      "(422, 224, 224, 3) (423, 224, 224, 3)\n"
     ]
    }
   ],
   "source": [
    "normal = np.array(normal)\n",
    "whisper = np.array(whisper)\n",
    "print(normal.shape, whisper.shape)"
   ]
  },
  {
   "cell_type": "code",
   "execution_count": 4,
   "id": "26b22520",
   "metadata": {},
   "outputs": [
    {
     "name": "stdout",
     "output_type": "stream",
     "text": [
      "(845, 224, 224, 3)\n"
     ]
    }
   ],
   "source": [
    "X = np.concatenate((normal, whisper), axis = 0)\n",
    "print(X.shape)"
   ]
  },
  {
   "cell_type": "code",
   "execution_count": 5,
   "id": "aa145d0c",
   "metadata": {},
   "outputs": [
    {
     "data": {
      "text/plain": [
       "(845,)"
      ]
     },
     "execution_count": 5,
     "metadata": {},
     "output_type": "execute_result"
    }
   ],
   "source": [
    "Y = []\n",
    "for i in range(845):\n",
    "    Y.append(1)\n",
    "for i in range(423,845):\n",
    "    Y[i] = 0\n",
    "Y = np.array(Y)\n",
    "Y.shape"
   ]
  },
  {
   "cell_type": "code",
   "execution_count": 6,
   "id": "a49ebf77",
   "metadata": {},
   "outputs": [
    {
     "name": "stdout",
     "output_type": "stream",
     "text": [
      "(760, 224, 224, 3) (85, 224, 224, 3) (760,) (85,)\n"
     ]
    }
   ],
   "source": [
    "from sklearn.model_selection import train_test_split\n",
    "X_train, X_test, Y_train, Y_test = train_test_split(X, Y, random_state = 3, test_size = 0.1)\n",
    "print(X_train.shape, X_test.shape, Y_train.shape, Y_test.shape)"
   ]
  },
  {
   "cell_type": "code",
   "execution_count": 7,
   "id": "4905b7b3",
   "metadata": {},
   "outputs": [],
   "source": [
    "X_train = X_train / 255\n",
    "X_test = X_test / 255"
   ]
  },
  {
   "cell_type": "code",
   "execution_count": 8,
   "id": "2f2c062b",
   "metadata": {},
   "outputs": [],
   "source": [
    "from tensorflow.keras.models import Sequential\n",
    "from tensorflow.keras.layers import Conv2D, Dense, Flatten\n",
    "from matplotlib import pyplot as plt\n",
    "import tensorflow as tf "
   ]
  },
  {
   "cell_type": "code",
   "execution_count": 9,
   "id": "d62a7d96",
   "metadata": {},
   "outputs": [
    {
     "name": "stdout",
     "output_type": "stream",
     "text": [
      "Model: \"sequential\"\n",
      "_________________________________________________________________\n",
      " Layer (type)                Output Shape              Param #   \n",
      "=================================================================\n",
      " conv2d (Conv2D)             (None, 222, 222, 16)      448       \n",
      "                                                                 \n",
      " max_pooling2d (MaxPooling2D  (None, 111, 111, 16)     0         \n",
      " )                                                               \n",
      "                                                                 \n",
      " dropout (Dropout)           (None, 111, 111, 16)      0         \n",
      "                                                                 \n",
      " conv2d_1 (Conv2D)           (None, 109, 109, 32)      4640      \n",
      "                                                                 \n",
      " max_pooling2d_1 (MaxPooling  (None, 54, 54, 32)       0         \n",
      " 2D)                                                             \n",
      "                                                                 \n",
      " dropout_1 (Dropout)         (None, 54, 54, 32)        0         \n",
      "                                                                 \n",
      " conv2d_2 (Conv2D)           (None, 52, 52, 64)        18496     \n",
      "                                                                 \n",
      " max_pooling2d_2 (MaxPooling  (None, 26, 26, 64)       0         \n",
      " 2D)                                                             \n",
      "                                                                 \n",
      " dropout_2 (Dropout)         (None, 26, 26, 64)        0         \n",
      "                                                                 \n",
      " flatten (Flatten)           (None, 43264)             0         \n",
      "                                                                 \n",
      " dense (Dense)               (None, 128)               5537920   \n",
      "                                                                 \n",
      " dense_1 (Dense)             (None, 64)                8256      \n",
      "                                                                 \n",
      " dense_2 (Dense)             (None, 2)                 130       \n",
      "                                                                 \n",
      "=================================================================\n",
      "Total params: 5,569,890\n",
      "Trainable params: 5,569,890\n",
      "Non-trainable params: 0\n",
      "_________________________________________________________________\n"
     ]
    }
   ],
   "source": [
    "cnn = models.Sequential([\n",
    "    layers.Conv2D(filters=16, kernel_size=(3, 3), activation = 'relu', input_shape=(224, 224, 3)),\n",
    "    layers.MaxPooling2D((2,2)),\n",
    "    layers.Dropout(0.4),\n",
    "    layers.Conv2D(filters=32, kernel_size=(3, 3), activation = 'relu'),\n",
    "    layers.MaxPooling2D((2,2)),\n",
    "    layers.Dropout(0.4),\n",
    "    layers.Conv2D(filters=64, kernel_size=(3, 3), activation = 'relu'),\n",
    "    layers.MaxPooling2D((2,2)),\n",
    "    layers.Dropout(0.4),\n",
    "    \n",
    "    layers.Flatten(),\n",
    "    layers.Dense(128, activation='relu'),\n",
    "    layers.Dense(64, activation='relu'),\n",
    "    layers.Dense(2, activation='softmax')\n",
    "])\n",
    "\n",
    "cnn.summary()"
   ]
  },
  {
   "cell_type": "code",
   "execution_count": 11,
   "id": "fb380ba4",
   "metadata": {},
   "outputs": [],
   "source": [
    "from keras.callbacks import ModelCheckpoint\n",
    "checkpoint = ModelCheckpoint(filepath='basicCNN.h5', \n",
    "                             monitor='val_loss',\n",
    "                             verbose=1, \n",
    "                             save_best_only=True,\n",
    "                             mode='min')\n",
    "callbacks = [checkpoint]"
   ]
  },
  {
   "cell_type": "code",
   "execution_count": 12,
   "id": "c7247d91",
   "metadata": {},
   "outputs": [
    {
     "name": "stdout",
     "output_type": "stream",
     "text": [
      "Epoch 1/10\n",
      "24/24 [==============================] - ETA: 0s - loss: 0.4872 - accuracy: 0.7526\n",
      "Epoch 00001: val_loss improved from inf to 0.27757, saving model to basicCNN.h5\n",
      "24/24 [==============================] - 16s 644ms/step - loss: 0.4872 - accuracy: 0.7526 - val_loss: 0.2776 - val_accuracy: 0.9176\n",
      "Epoch 2/10\n",
      "24/24 [==============================] - ETA: 0s - loss: 0.0661 - accuracy: 0.9829\n",
      "Epoch 00002: val_loss improved from 0.27757 to 0.07736, saving model to basicCNN.h5\n",
      "24/24 [==============================] - 15s 631ms/step - loss: 0.0661 - accuracy: 0.9829 - val_loss: 0.0774 - val_accuracy: 0.9882\n",
      "Epoch 3/10\n",
      "24/24 [==============================] - ETA: 0s - loss: 0.0164 - accuracy: 0.9934\n",
      "Epoch 00003: val_loss improved from 0.07736 to 0.05102, saving model to basicCNN.h5\n",
      "24/24 [==============================] - 16s 646ms/step - loss: 0.0164 - accuracy: 0.9934 - val_loss: 0.0510 - val_accuracy: 0.9882\n",
      "Epoch 4/10\n",
      "24/24 [==============================] - ETA: 0s - loss: 0.0275 - accuracy: 0.9882\n",
      "Epoch 00004: val_loss improved from 0.05102 to 0.03011, saving model to basicCNN.h5\n",
      "24/24 [==============================] - 16s 645ms/step - loss: 0.0275 - accuracy: 0.9882 - val_loss: 0.0301 - val_accuracy: 1.0000\n",
      "Epoch 5/10\n",
      "24/24 [==============================] - ETA: 0s - loss: 0.0115 - accuracy: 0.9961\n",
      "Epoch 00005: val_loss improved from 0.03011 to 0.01502, saving model to basicCNN.h5\n",
      "24/24 [==============================] - 16s 644ms/step - loss: 0.0115 - accuracy: 0.9961 - val_loss: 0.0150 - val_accuracy: 1.0000\n",
      "Epoch 6/10\n",
      "24/24 [==============================] - ETA: 0s - loss: 0.0305 - accuracy: 0.9934\n",
      "Epoch 00006: val_loss did not improve from 0.01502\n",
      "24/24 [==============================] - 15s 617ms/step - loss: 0.0305 - accuracy: 0.9934 - val_loss: 0.0255 - val_accuracy: 1.0000\n",
      "Epoch 7/10\n",
      "24/24 [==============================] - ETA: 0s - loss: 0.0094 - accuracy: 0.9974\n",
      "Epoch 00007: val_loss improved from 0.01502 to 0.01447, saving model to basicCNN.h5\n",
      "24/24 [==============================] - 16s 660ms/step - loss: 0.0094 - accuracy: 0.9974 - val_loss: 0.0145 - val_accuracy: 1.0000\n",
      "Epoch 8/10\n",
      "24/24 [==============================] - ETA: 0s - loss: 0.0055 - accuracy: 0.9987\n",
      "Epoch 00008: val_loss did not improve from 0.01447\n",
      "24/24 [==============================] - 15s 612ms/step - loss: 0.0055 - accuracy: 0.9987 - val_loss: 0.0423 - val_accuracy: 0.9882\n",
      "Epoch 9/10\n",
      "24/24 [==============================] - ETA: 0s - loss: 7.4729e-04 - accuracy: 1.0000\n",
      "Epoch 00009: val_loss improved from 0.01447 to 0.01151, saving model to basicCNN.h5\n",
      "24/24 [==============================] - 16s 654ms/step - loss: 7.4729e-04 - accuracy: 1.0000 - val_loss: 0.0115 - val_accuracy: 1.0000\n",
      "Epoch 10/10\n",
      "24/24 [==============================] - ETA: 0s - loss: 0.0010 - accuracy: 1.0000\n",
      "Epoch 00010: val_loss did not improve from 0.01151\n",
      "24/24 [==============================] - 15s 614ms/step - loss: 0.0010 - accuracy: 1.0000 - val_loss: 0.0163 - val_accuracy: 0.9882\n"
     ]
    },
    {
     "data": {
      "text/plain": [
       "<keras.callbacks.History at 0x294fd0f3910>"
      ]
     },
     "execution_count": 12,
     "metadata": {},
     "output_type": "execute_result"
    }
   ],
   "source": [
    "cnn.compile(optimizer=keras.optimizers.Adam(0.001), loss='sparse_categorical_crossentropy', metrics=['accuracy'])\n",
    "cnn.fit(X_train, Y_train, validation_data = (X_test, Y_test), epochs=10, callbacks=callbacks)"
   ]
  },
  {
   "cell_type": "code",
   "execution_count": 31,
   "id": "914e5950",
   "metadata": {},
   "outputs": [
    {
     "data": {
      "text/plain": [
       "<matplotlib.image.AxesImage at 0x294d58825b0>"
      ]
     },
     "execution_count": 31,
     "metadata": {},
     "output_type": "execute_result"
    },
    {
     "data": {
      "image/png": "[encoded data removed]",
      "text/plain": [
       "<Figure size 432x288 with 1 Axes>"
      ]
     },
     "metadata": {
      "needs_background": "light"
     },
     "output_type": "display_data"
    }
   ],
   "source": [
    "testimg = cv2.imread('D:/FYP/Images/normal/s101u415n.png')\n",
    "testimg = cv2.resize(testimg, (224, 224))\n",
    "plt.imshow(testimg[:,:,::-1]) "
   ]
  },
  {
   "cell_type": "code",
   "execution_count": 32,
   "id": "5c41a1a0",
   "metadata": {},
   "outputs": [
    {
     "name": "stdout",
     "output_type": "stream",
     "text": [
      "(1, 224, 224, 3)\n"
     ]
    }
   ],
   "source": [
    "testimg = np.expand_dims(testimg, axis = 0)\n",
    "print(testimg.shape)"
   ]
  },
  {
   "cell_type": "code",
   "execution_count": 33,
   "id": "3c2760d5",
   "metadata": {},
   "outputs": [
    {
     "name": "stdout",
     "output_type": "stream",
     "text": [
      "[[1.4295219e-07 9.9999988e-01]]\n",
      "1\n",
      "normal\n"
     ]
    }
   ],
   "source": [
    "result = cnn.predict(testimg/255)\n",
    "print(result)\n",
    "index = np.argmax(result)\n",
    "print(index)\n",
    "if result[0][index] < 0.80:\n",
    "    print(\"cannot predict\")\n",
    "elif index == 0:\n",
    "    print('whisper')\n",
    "elif index == 1:\n",
    "    print('normal')"
   ]
  },
  {
   "cell_type": "code",
   "execution_count": null,
   "id": "2aa37242",
   "metadata": {},
   "outputs": [],
   "source": []
  }
 ],
 "metadata": {
  "kernelspec": {
   "display_name": "Python 3 (ipykernel)",
   "language": "python",
   "name": "python3"
  },
  "language_info": {
   "codemirror_mode": {
    "name": "ipython",
    "version": 3
   },
   "file_extension": ".py",
   "mimetype": "text/x-python",
   "name": "python",
   "nbconvert_exporter": "python",
   "pygments_lexer": "ipython3",
   "version": "3.8.11"
  }
 },
 "nbformat": 4,
 "nbformat_minor": 5
}
